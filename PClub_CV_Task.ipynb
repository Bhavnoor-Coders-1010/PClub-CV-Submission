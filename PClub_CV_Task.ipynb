{
  "nbformat": 4,
  "nbformat_minor": 0,
  "metadata": {
    "colab": {
      "provenance": []
    },
    "kernelspec": {
      "name": "python3",
      "display_name": "Python 3"
    },
    "language_info": {
      "name": "python"
    }
  },
  "cells": [
    {
      "cell_type": "code",
      "execution_count": 34,
      "metadata": {
        "id": "7YkZr-gowMi2"
      },
      "outputs": [],
      "source": [
        "import os\n",
        "import numpy as np\n",
        "import cv2\n",
        "import matplotlib.pyplot as plt\n",
        "lst = os.listdir('/content/Mask Pics')\n",
        "imageList = []\n",
        "for i in range(len(lst)):\n",
        "  elem = cv2.imread('/content/Mask Pics/' + lst[i])\n",
        "  imageList.append(cv2.resize(elem, (600, 600)).flatten())\n"
      ]
    },
    {
      "cell_type": "code",
      "source": [
        "from sklearn.cluster import KMeans\n",
        "\n",
        "knn = KMeans(n_clusters = 2)\n",
        "knn.fit(imageList[:100])\n",
        "knn.labels_"
      ],
      "metadata": {
        "id": "u9b1DB6IK5G7"
      },
      "execution_count": null,
      "outputs": []
    },
    {
      "cell_type": "code",
      "source": [
        "Genlst = []\n",
        "if knn.labels_[0] == 0:\n",
        "  Genlst = [\"male\", \"female\"]\n",
        "else:\n",
        "  Genlst = [\"female\", \"male\"]"
      ],
      "metadata": {
        "id": "Ha1pDaGbMMg7"
      },
      "execution_count": 36,
      "outputs": []
    },
    {
      "cell_type": "code",
      "source": [
        "num = int(input(\"Enter a number between 100-550(both excluded): \"))"
      ],
      "metadata": {
        "id": "oSvYzniKSDRN"
      },
      "execution_count": null,
      "outputs": []
    },
    {
      "cell_type": "code",
      "source": [
        "elem = cv2.imread('/content/Mask Pics/' + lst[num])\n",
        "\n",
        "elem = cv2.resize(elem, (600, 600))\n",
        "plt.imshow(elem)\n",
        "print(\"Actual Image: \")"
      ],
      "metadata": {
        "id": "0ciTPp35MtAG"
      },
      "execution_count": null,
      "outputs": []
    },
    {
      "cell_type": "code",
      "source": [
        "print(\"Prediction: \",Genlst[knn.predict(imageList[num:num+1])[0]])"
      ],
      "metadata": {
        "collapsed": true,
        "id": "nZanA-KmM3vL"
      },
      "execution_count": null,
      "outputs": []
    },
    {
      "cell_type": "code",
      "source": [],
      "metadata": {
        "id": "vvL7NmnQWhJm"
      },
      "execution_count": null,
      "outputs": []
    }
  ]
}